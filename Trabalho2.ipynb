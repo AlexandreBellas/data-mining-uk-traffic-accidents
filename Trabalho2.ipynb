{
 "cells": [
  {
   "cell_type": "markdown",
   "metadata": {},
   "source": [
    "# SCC0630 - Inteligência Artificial\n",
    "## Trabalho Prático 2 - Mineração de Dados"
   ]
  },
  {
   "cell_type": "markdown",
   "metadata": {},
   "source": [
    "### Tema: Acidentes de trânsito no Reino Unido"
   ]
  },
  {
   "cell_type": "markdown",
   "metadata": {},
   "source": [
    "#### Alunos\n",
    "* Alexandre Batistella Bellas&emsp;&emsp;&emsp;&emsp;9763168\n",
    "* Guilherme dos Reis Meneguello&emsp;&ensp;9313707\n",
    "* Guilherme Lima Blatt&emsp;&emsp;&emsp;&emsp;&emsp;&emsp;&ensp;9771470\n",
    "* Igor Guedes Rodrigues&emsp;&emsp;&emsp;&emsp;&emsp;&ensp;9771654\n",
    "* Murilo Luz Stucki&emsp;&emsp;&emsp;&emsp;&emsp;&emsp;&emsp;&emsp;&nbsp;9360902\n",
    "* Thiago Músico&emsp;&emsp;&emsp;&emsp;&emsp;&emsp;&emsp;&emsp;&emsp;&ensp;9771567\n",
    "* Tiago Lemes Daneluzzi&emsp;&emsp;&emsp;&emsp;&emsp;&ensp;8531320"
   ]
  },
  {
   "cell_type": "markdown",
   "metadata": {},
   "source": [
    "## Levantamento e coleta de dados"
   ]
  },
  {
   "cell_type": "code",
   "execution_count": null,
   "metadata": {},
   "outputs": [],
   "source": []
  },
  {
   "cell_type": "markdown",
   "metadata": {},
   "source": [
    "## Proposta de trabalho e detalhamento da mineração"
   ]
  },
  {
   "cell_type": "code",
   "execution_count": null,
   "metadata": {},
   "outputs": [],
   "source": []
  },
  {
   "cell_type": "markdown",
   "metadata": {},
   "source": [
    "## Aplicação da mineração de dados e análise dos resultados obtidos"
   ]
  },
  {
   "cell_type": "code",
   "execution_count": null,
   "metadata": {},
   "outputs": [],
   "source": []
  }
 ],
 "metadata": {
  "kernelspec": {
   "display_name": "Python 3",
   "language": "python",
   "name": "python3"
  },
  "language_info": {
   "codemirror_mode": {
    "name": "ipython",
    "version": 3
   },
   "file_extension": ".py",
   "mimetype": "text/x-python",
   "name": "python",
   "nbconvert_exporter": "python",
   "pygments_lexer": "ipython3",
   "version": "3.7.1"
  }
 },
 "nbformat": 4,
 "nbformat_minor": 2
}
